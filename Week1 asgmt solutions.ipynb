{
 "cells": [
  {
   "cell_type": "code",
   "execution_count": null,
   "id": "6d1ef074-878d-46d5-8b59-d5a0cacaa339",
   "metadata": {},
   "outputs": [],
   "source": [
    "#Ques1 Create one variable containing following type of data:"
   ]
  },
  {
   "cell_type": "code",
   "execution_count": 13,
   "id": "d28797c3-ec7f-46a2-852e-abb8cf970f89",
   "metadata": {},
   "outputs": [
    {
     "name": "stdout",
     "output_type": "stream",
     "text": [
      "<class 'str'>\n"
     ]
    }
   ],
   "source": [
    "x = \"rupal gupta\"\n",
    "print(type(x))"
   ]
  },
  {
   "cell_type": "code",
   "execution_count": 3,
   "id": "a797f55f-3222-4fd9-94d9-bcba81915d4b",
   "metadata": {},
   "outputs": [
    {
     "name": "stdout",
     "output_type": "stream",
     "text": [
      "<class 'list'>\n"
     ]
    }
   ],
   "source": [
    "y = [1,2,3,4,5,\"rupal\",2.33,True]\n",
    "print(type(y))"
   ]
  },
  {
   "cell_type": "code",
   "execution_count": 5,
   "id": "785315b8-0112-4ea6-af19-8b7c4e3d4da8",
   "metadata": {},
   "outputs": [
    {
     "name": "stdout",
     "output_type": "stream",
     "text": [
      "<class 'float'>\n"
     ]
    }
   ],
   "source": [
    "a = 3.45\n",
    "print(type(a))"
   ]
  },
  {
   "cell_type": "code",
   "execution_count": 6,
   "id": "2278642f-43c4-43cd-917e-25cc7acabfdf",
   "metadata": {},
   "outputs": [
    {
     "name": "stdout",
     "output_type": "stream",
     "text": [
      "<class 'tuple'>\n"
     ]
    }
   ],
   "source": [
    "a = (1,2,3)\n",
    "print(type(a))"
   ]
  },
  {
   "cell_type": "code",
   "execution_count": null,
   "id": "1901b173-e1f6-463e-afed-bc4ce2f91630",
   "metadata": {},
   "outputs": [],
   "source": [
    "#Ques2 what will the data type of the above given variables:"
   ]
  },
  {
   "cell_type": "code",
   "execution_count": 7,
   "id": "d0563886-5763-40e3-8423-d2ce5f01a765",
   "metadata": {},
   "outputs": [
    {
     "data": {
      "text/plain": [
       "str"
      ]
     },
     "execution_count": 7,
     "metadata": {},
     "output_type": "execute_result"
    }
   ],
   "source": [
    "var1 = ' '\n",
    "type(var1)"
   ]
  },
  {
   "cell_type": "code",
   "execution_count": 8,
   "id": "8622d1a9-c038-4b5a-a6a5-a5e6c5a83ada",
   "metadata": {},
   "outputs": [
    {
     "data": {
      "text/plain": [
       "str"
      ]
     },
     "execution_count": 8,
     "metadata": {},
     "output_type": "execute_result"
    }
   ],
   "source": [
    "var2 = '[DS, ML, Python]'\n",
    "type(var2)"
   ]
  },
  {
   "cell_type": "code",
   "execution_count": 9,
   "id": "1aa4de62-cc21-4149-a066-e46a2ed091e8",
   "metadata": {},
   "outputs": [
    {
     "data": {
      "text/plain": [
       "list"
      ]
     },
     "execution_count": 9,
     "metadata": {},
     "output_type": "execute_result"
    }
   ],
   "source": [
    "var3 = [ 'DS', 'ML', 'Python']\n",
    "type(var3)"
   ]
  },
  {
   "cell_type": "code",
   "execution_count": 10,
   "id": "ef63c369-da8c-4cad-ba53-9eab52acd946",
   "metadata": {},
   "outputs": [
    {
     "data": {
      "text/plain": [
       "int"
      ]
     },
     "execution_count": 10,
     "metadata": {},
     "output_type": "execute_result"
    }
   ],
   "source": [
    "var4 = 1\n",
    "type(var4)"
   ]
  },
  {
   "cell_type": "code",
   "execution_count": null,
   "id": "fd0a1bb0-348a-4ee9-a461-f5c27727cb3f",
   "metadata": {},
   "outputs": [],
   "source": [
    "#Ques3 Use of following operators with an example:"
   ]
  },
  {
   "cell_type": "code",
   "execution_count": 14,
   "id": "15a380ec-983f-4ad4-9948-47539b5d26b4",
   "metadata": {},
   "outputs": [
    {
     "name": "stdout",
     "output_type": "stream",
     "text": [
      "2.0\n"
     ]
    }
   ],
   "source": [
    "a = 10\n",
    "b = 5\n",
    "c = a/b\n",
    "print(c)"
   ]
  },
  {
   "cell_type": "code",
   "execution_count": 15,
   "id": "0274376e-5c5c-415e-a964-0436f0d02665",
   "metadata": {},
   "outputs": [
    {
     "name": "stdout",
     "output_type": "stream",
     "text": [
      "0\n"
     ]
    }
   ],
   "source": [
    "a = 10\n",
    "b = 5\n",
    "c = a % b\n",
    "print(c)"
   ]
  },
  {
   "cell_type": "code",
   "execution_count": 16,
   "id": "2611d3f4-5769-40b9-a0bf-542002daa98c",
   "metadata": {},
   "outputs": [
    {
     "name": "stdout",
     "output_type": "stream",
     "text": [
      "10\n"
     ]
    }
   ],
   "source": [
    "a = 20\n",
    "b = 2\n",
    "c = a//b\n",
    "print(c)"
   ]
  },
  {
   "cell_type": "code",
   "execution_count": 17,
   "id": "495d1e7b-770f-45c8-8a80-c0f631ade638",
   "metadata": {},
   "outputs": [
    {
     "name": "stdout",
     "output_type": "stream",
     "text": [
      "243\n"
     ]
    }
   ],
   "source": [
    "a = 3\n",
    "b = 5\n",
    "c = a**b\n",
    "print(c)"
   ]
  },
  {
   "cell_type": "code",
   "execution_count": null,
   "id": "420e0fbd-bfd5-407f-a325-aee618e58285",
   "metadata": {},
   "outputs": [],
   "source": [
    "#Ques4 Create a list of 10 of your choice containing multiple type of data. \n",
    "#Using for loop print the elements and its data type."
   ]
  },
  {
   "cell_type": "code",
   "execution_count": 23,
   "id": "c02c2a55-0862-468d-8e89-d432090c80c4",
   "metadata": {},
   "outputs": [
    {
     "name": "stdout",
     "output_type": "stream",
     "text": [
      "1\n",
      "<class 'int'>\n",
      "2\n",
      "<class 'int'>\n",
      "3\n",
      "<class 'int'>\n",
      "3.6\n",
      "<class 'float'>\n",
      "6\n",
      "<class 'int'>\n",
      "(8+4j)\n",
      "<class 'complex'>\n",
      "5j\n",
      "<class 'complex'>\n",
      "rupal\n",
      "<class 'str'>\n",
      "gupta\n",
      "<class 'str'>\n",
      "True\n",
      "<class 'bool'>\n",
      "False\n",
      "<class 'bool'>\n"
     ]
    }
   ],
   "source": [
    "x = [1, 2, 3, 3.6, 6, 8+4j, 5j, \"rupal\", \"gupta\", True, False]\n",
    "type(x)\n",
    "for i in x:\n",
    "    print(i)\n",
    "    print(type(i))"
   ]
  },
  {
   "cell_type": "code",
   "execution_count": null,
   "id": "a03c2365-e4ca-4579-8d7c-2a7413a686bb",
   "metadata": {},
   "outputs": [],
   "source": [
    "#Ques5 Using while loop, verify  if the number A is purely divisible by B.\n",
    "#if so how many times it can be divisible."
   ]
  },
  {
   "cell_type": "code",
   "execution_count": 41,
   "id": "f5af0e87-3740-448b-8414-64e309f24dfa",
   "metadata": {},
   "outputs": [
    {
     "name": "stdin",
     "output_type": "stream",
     "text": [
      " 100\n",
      " 2\n"
     ]
    },
    {
     "name": "stdout",
     "output_type": "stream",
     "text": [
      "A is purely divisible by B , 1 time\n",
      "A is purely divisible by B , 2 time\n",
      "Not divisible\n"
     ]
    }
   ],
   "source": [
    "A = int(input())\n",
    "B = int(input())\n",
    "count = 0\n",
    "while A % B ==0:\n",
    "    count += 1\n",
    "    A /= B\n",
    "    print(\"A is purely divisible by B\", ',', count, 'time')\n",
    "else :\n",
    "    print(\"Not divisible\")"
   ]
  },
  {
   "cell_type": "code",
   "execution_count": null,
   "id": "0b0855d6-32c9-4f79-9acd-d2444bd629a2",
   "metadata": {},
   "outputs": [],
   "source": [
    "#Ques6 Create a list containing 25 int type data.\n",
    "#Using for loop and if-else conditions print if element is divisible by 3"
   ]
  },
  {
   "cell_type": "code",
   "execution_count": 43,
   "id": "b2f04793-67d1-4dfc-90c2-1e8ec33df987",
   "metadata": {},
   "outputs": [
    {
     "name": "stdout",
     "output_type": "stream",
     "text": [
      "1 Not divisible by 3\n",
      "2 Not divisible by 3\n",
      "3 Divisible by 3\n",
      "4 Not divisible by 3\n",
      "5 Not divisible by 3\n",
      "6 Divisible by 3\n",
      "7 Not divisible by 3\n",
      "8 Not divisible by 3\n",
      "9 Divisible by 3\n",
      "10 Not divisible by 3\n",
      "11 Not divisible by 3\n",
      "12 Divisible by 3\n",
      "13 Not divisible by 3\n",
      "14 Not divisible by 3\n",
      "15 Divisible by 3\n",
      "16 Not divisible by 3\n",
      "17 Not divisible by 3\n",
      "18 Divisible by 3\n",
      "19 Not divisible by 3\n",
      "20 Not divisible by 3\n",
      "21 Divisible by 3\n",
      "22 Not divisible by 3\n",
      "23 Not divisible by 3\n",
      "24 Divisible by 3\n",
      "25 Not divisible by 3\n"
     ]
    }
   ],
   "source": [
    "x = [1,2,3,4,5,6,7,8,9,10,11,12,13,14,15,16,17,18,19,20,21,22,23,24,25]\n",
    "y = 3\n",
    "z = 0\n",
    "for i in x:\n",
    "    if i % y == z:\n",
    "        print( i, \"Divisible by 3\")\n",
    "    else:\n",
    "        print(i, \"Not divisible by 3\")"
   ]
  },
  {
   "cell_type": "code",
   "execution_count": null,
   "id": "4ca9bf83-08f3-4e72-93c1-bce64c7888d8",
   "metadata": {},
   "outputs": [],
   "source": [
    "#Ques7 Mutables and Immutables data type"
   ]
  },
  {
   "cell_type": "code",
   "execution_count": null,
   "id": "5a6630af-5308-4eb5-b442-16f92ac1cc31",
   "metadata": {},
   "outputs": [],
   "source": [
    "#If an element in a given data type can be modified anytime after it is created then it is known as Mutable object.\n",
    "#For example, objects in a list can be modified which makes it mutable. "
   ]
  },
  {
   "cell_type": "code",
   "execution_count": 44,
   "id": "558f43d7-70ab-424d-b771-7a9fae4d78b6",
   "metadata": {},
   "outputs": [
    {
     "name": "stdout",
     "output_type": "stream",
     "text": [
      "[1, 2, 'rupal', 3.4, False]\n"
     ]
    }
   ],
   "source": [
    "x = [1,2,\"rupal\",3.4,True]\n",
    "x[4] = False\n",
    "print(x)"
   ]
  },
  {
   "cell_type": "code",
   "execution_count": null,
   "id": "782b2aaa-1151-4cca-9319-74a08faee1c9",
   "metadata": {},
   "outputs": [],
   "source": [
    "#If an element in a given data type cannot be modified anytime after it is created then it is known as Immutable object.\n",
    "#For example, element in a string cannot be modified which makes it immutable."
   ]
  },
  {
   "cell_type": "code",
   "execution_count": 45,
   "id": "1947d1a4-4b92-4eb4-b8dc-b1af6f7e9c45",
   "metadata": {},
   "outputs": [
    {
     "ename": "TypeError",
     "evalue": "'str' object does not support item assignment",
     "output_type": "error",
     "traceback": [
      "\u001b[0;31m---------------------------------------------------------------------------\u001b[0m",
      "\u001b[0;31mTypeError\u001b[0m                                 Traceback (most recent call last)",
      "Cell \u001b[0;32mIn[45], line 2\u001b[0m\n\u001b[1;32m      1\u001b[0m x \u001b[38;5;241m=\u001b[39m \u001b[38;5;124m\"\u001b[39m\u001b[38;5;124mrupal\u001b[39m\u001b[38;5;124m\"\u001b[39m\n\u001b[0;32m----> 2\u001b[0m \u001b[43mx\u001b[49m\u001b[43m[\u001b[49m\u001b[38;5;241;43m3\u001b[39;49m\u001b[43m]\u001b[49m \u001b[38;5;241m=\u001b[39m \u001b[38;5;124m\"\u001b[39m\u001b[38;5;124mr\u001b[39m\u001b[38;5;124m\"\u001b[39m\n\u001b[1;32m      3\u001b[0m \u001b[38;5;28mprint\u001b[39m(x)\n",
      "\u001b[0;31mTypeError\u001b[0m: 'str' object does not support item assignment"
     ]
    }
   ],
   "source": [
    "x = \"rupal\"\n",
    "x[3] = \"r\"\n",
    "print(x)"
   ]
  }
 ],
 "metadata": {
  "kernelspec": {
   "display_name": "Python 3 (ipykernel)",
   "language": "python",
   "name": "python3"
  },
  "language_info": {
   "codemirror_mode": {
    "name": "ipython",
    "version": 3
   },
   "file_extension": ".py",
   "mimetype": "text/x-python",
   "name": "python",
   "nbconvert_exporter": "python",
   "pygments_lexer": "ipython3",
   "version": "3.10.8"
  }
 },
 "nbformat": 4,
 "nbformat_minor": 5
}
